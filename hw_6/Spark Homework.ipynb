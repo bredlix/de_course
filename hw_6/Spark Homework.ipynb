{
 "cells": [
  {
   "cell_type": "code",
   "execution_count": 1,
   "id": "a3a3cc7e",
   "metadata": {},
   "outputs": [
    {
     "name": "stdout",
     "output_type": "stream",
     "text": [
      "Hello Anton\n"
     ]
    }
   ],
   "source": [
    "print('Hello Anton')"
   ]
  },
  {
   "cell_type": "code",
   "execution_count": 2,
   "id": "6737f281",
   "metadata": {},
   "outputs": [
    {
     "name": "stderr",
     "output_type": "stream",
     "text": [
      "Setting default log level to \"WARN\".\n",
      "To adjust logging level use sc.setLogLevel(newLevel). For SparkR, use setLogLevel(newLevel).\n"
     ]
    }
   ],
   "source": [
    "from pyspark.sql import SparkSession\n",
    "\n",
    "import pyspark.sql.functions as f\n",
    "\n",
    "spark = SparkSession.builder\\\n",
    "        .config('spark.driver.extraClassPath'\n",
    "                ,'/home/user/shared_folder/postgresql-42.3.1.jar')\\\n",
    "        .master('local')\\\n",
    "        .appName('hw')\\\n",
    "        .getOrCreate()"
   ]
  },
  {
   "cell_type": "code",
   "execution_count": 3,
   "id": "10edd483",
   "metadata": {},
   "outputs": [],
   "source": [
    "pg_url = \"jdbc:postgresql://127.0.0.1:5432/postgres\"\n",
    "pg_creds = {\"user\": \"pguser\", \"password\": \"secret\"}"
   ]
  },
  {
   "cell_type": "code",
   "execution_count": 4,
   "id": "38629042",
   "metadata": {},
   "outputs": [],
   "source": [
    "film = spark.read.jdbc(pg_url, table = 'film', properties = pg_creds)\n",
    "film_category = spark.read.jdbc(pg_url, table = 'film_category', properties = pg_creds)\n",
    "category = spark.read.jdbc(pg_url, table = 'category', properties = pg_creds)\n",
    "rental = spark.read.jdbc(pg_url, table = 'rental', properties = pg_creds)\n",
    "inventory = spark.read.jdbc(pg_url, table = 'inventory', properties = pg_creds)\n",
    "film_actor = spark.read.jdbc(pg_url, table = 'film_actor', properties = pg_creds)\n",
    "actor = spark.read.jdbc(pg_url, table = 'actor', properties = pg_creds)\n",
    "payment = spark.read.jdbc(pg_url, table = 'payment', properties = pg_creds)\n",
    "customer = spark.read.jdbc(pg_url, table = 'customer', properties = pg_creds)\n",
    "address = spark.read.jdbc(pg_url, table = 'address', properties = pg_creds)\n",
    "city = spark.read.jdbc(pg_url, table = 'city', properties = pg_creds)"
   ]
  },
  {
   "cell_type": "code",
   "execution_count": 5,
   "id": "c8bdce3a",
   "metadata": {},
   "outputs": [],
   "source": [
    "film.createOrReplaceTempView('film')\n",
    "film_category.createOrReplaceTempView('film_category')\n",
    "category.createOrReplaceTempView('category')\n",
    "rental.createOrReplaceTempView('rental')\n",
    "inventory.createOrReplaceTempView('inventory')\n",
    "film_actor.createOrReplaceTempView('film_actor')\n",
    "actor.createOrReplaceTempView('actor')\n",
    "payment.createOrReplaceTempView('payment')\n",
    "customer.createOrReplaceTempView('customer')\n",
    "address.createOrReplaceTempView('address')\n",
    "city.createOrReplaceTempView('city')"
   ]
  },
  {
   "cell_type": "markdown",
   "id": "dfbcf8d3",
   "metadata": {},
   "source": [
    "### Task 1"
   ]
  },
  {
   "cell_type": "code",
   "execution_count": 6,
   "id": "03282808",
   "metadata": {},
   "outputs": [
    {
     "name": "stderr",
     "output_type": "stream",
     "text": [
      "[Stage 4:===================================================>   (188 + 1) / 200]\r"
     ]
    },
    {
     "name": "stdout",
     "output_type": "stream",
     "text": [
      "+-----------+-----+\n",
      "|cat        |f_cnt|\n",
      "+-----------+-----+\n",
      "|Sports     |74   |\n",
      "|Foreign    |73   |\n",
      "|Family     |69   |\n",
      "|Documentary|68   |\n",
      "|Animation  |66   |\n",
      "|Action     |64   |\n",
      "|New        |63   |\n",
      "|Drama      |62   |\n",
      "|Sci-Fi     |61   |\n",
      "|Games      |61   |\n",
      "|Children   |60   |\n",
      "|Comedy     |58   |\n",
      "|Travel     |57   |\n",
      "|Classics   |57   |\n",
      "|Horror     |56   |\n",
      "|Music      |51   |\n",
      "+-----------+-----+\n",
      "\n"
     ]
    },
    {
     "name": "stderr",
     "output_type": "stream",
     "text": [
      "\r",
      "[Stage 5:=============================================>         (165 + 1) / 200]\r",
      "\r",
      "                                                                                \r"
     ]
    }
   ],
   "source": [
    "spark.sql(\"\"\"\n",
    "select c.name AS cat\n",
    "      ,COUNT(a.film_id) AS f_cnt\n",
    "FROM film AS a\n",
    "JOIN film_category AS b ON b.film_id=a.film_id\n",
    "JOIN category AS c ON c.category_id=b.category_id\n",
    "group BY 1\n",
    "order BY 2 DESC;\n",
    "\"\"\").show(100,False)"
   ]
  },
  {
   "cell_type": "markdown",
   "id": "17b352d8",
   "metadata": {},
   "source": [
    "Task 2"
   ]
  },
  {
   "cell_type": "code",
   "execution_count": 7,
   "id": "82bc34f5",
   "metadata": {},
   "outputs": [
    {
     "name": "stderr",
     "output_type": "stream",
     "text": [
      "[Stage 15:===================================>                  (130 + 1) / 200]\r"
     ]
    },
    {
     "name": "stdout",
     "output_type": "stream",
     "text": [
      "+------------------+--------+\n",
      "|full_name         |rent_cnt|\n",
      "+------------------+--------+\n",
      "|SUSAN DAVIS       |825     |\n",
      "|GINA DEGENERES    |753     |\n",
      "|MATTHEW CARREY    |678     |\n",
      "|MARY KEITEL       |674     |\n",
      "|ANGELA WITHERSPOON|654     |\n",
      "|WALTER TORN       |640     |\n",
      "|HENRY BERRY       |612     |\n",
      "|JAYNE NOLTE       |611     |\n",
      "|VAL BOLGER        |605     |\n",
      "|SANDRA KILMER     |604     |\n",
      "+------------------+--------+\n",
      "\n"
     ]
    },
    {
     "name": "stderr",
     "output_type": "stream",
     "text": [
      "\r",
      "[Stage 15:====================================================> (195 + 1) / 200]\r",
      "\r",
      "                                                                                \r"
     ]
    }
   ],
   "source": [
    "spark.sql(\"\"\"\n",
    "SELECT CONCAT(e.first_name,' ',e.last_name) AS full_name\n",
    "      ,count(DISTINCT a.rental_id) AS rent_cnt\n",
    "FROM rental AS a\n",
    "JOIN inventory AS b ON b.inventory_id=a.inventory_id\n",
    "JOIN film AS c ON c.film_id=b.film_id\n",
    "JOIN film_actor AS d ON d.film_id=c.film_id\n",
    "JOIN actor AS e ON e.actor_id=d.actor_id\n",
    "group BY 1\n",
    "order by 2 DESC\n",
    "LIMIT 10\n",
    "\n",
    "\"\"\").show(100,False)"
   ]
  },
  {
   "cell_type": "markdown",
   "id": "b2755fa7",
   "metadata": {},
   "source": [
    "Task 3"
   ]
  },
  {
   "cell_type": "code",
   "execution_count": 8,
   "id": "4f171ce0",
   "metadata": {},
   "outputs": [
    {
     "name": "stderr",
     "output_type": "stream",
     "text": [
      "[Stage 26:===================================================>  (190 + 1) / 200]\r"
     ]
    },
    {
     "name": "stdout",
     "output_type": "stream",
     "text": [
      "+------+-------+\n",
      "|name  |revenue|\n",
      "+------+-------+\n",
      "|Sports|5314.21|\n",
      "+------+-------+\n",
      "\n"
     ]
    },
    {
     "name": "stderr",
     "output_type": "stream",
     "text": [
      "\r",
      "[Stage 27:====================================================> (194 + 1) / 200]\r",
      "\r",
      "                                                                                \r"
     ]
    }
   ],
   "source": [
    "spark.sql(\"\"\"\n",
    "SELECT f.name\n",
    "      ,SUM(a.amount) AS revenue\n",
    "FROM payment AS a\n",
    "JOIN rental AS b ON b.rental_id=a.rental_id\n",
    "JOIN inventory AS c ON c.inventory_id=b.inventory_id\n",
    "JOIN film AS d ON d.film_id=c.film_id\n",
    "JOIN film_category AS e ON e.film_id=d.film_id\n",
    "JOIN category AS f ON f.category_id=e.category_id\n",
    "group BY 1\n",
    "order BY 2 DESC\n",
    "limit 1;\n",
    "\"\"\").show(100,False)"
   ]
  },
  {
   "cell_type": "markdown",
   "id": "27707d2f",
   "metadata": {},
   "source": [
    "Task 4"
   ]
  },
  {
   "cell_type": "code",
   "execution_count": 9,
   "id": "2d18ee9f",
   "metadata": {},
   "outputs": [
    {
     "name": "stdout",
     "output_type": "stream",
     "text": [
      "+----------------------+\n",
      "|title                 |\n",
      "+----------------------+\n",
      "|CHOCOLATE DUCK        |\n",
      "|BUTCH PANTHER         |\n",
      "|VOLUME HOUSE          |\n",
      "|ORDER BETRAYED        |\n",
      "|TADPOLE PARK          |\n",
      "|KILL BROTHERHOOD      |\n",
      "|FRANKENSTEIN STRANGER |\n",
      "|CROSSING DIVORCE      |\n",
      "|SUICIDES SILENCE      |\n",
      "|CATCH AMISTAD         |\n",
      "|PERDITION FARGO       |\n",
      "|FLOATS GARDEN         |\n",
      "|GUMP DATE             |\n",
      "|WALLS ARTIST          |\n",
      "|GLADIATOR WESTWARD    |\n",
      "|HOCUS FRIDA           |\n",
      "|ARSENIC INDEPENDENCE  |\n",
      "|MUPPET MILE           |\n",
      "|FIREHOUSE VIETNAM     |\n",
      "|ROOF CHAMPION         |\n",
      "|DAZED PUNK            |\n",
      "|PEARL DESTINY         |\n",
      "|RAINBOW SHOCK         |\n",
      "|KENTUCKIAN GIANT      |\n",
      "|BOONDOCK BALLROOM     |\n",
      "|COMMANDMENTS EXPRESS  |\n",
      "|HATE HANDICAP         |\n",
      "|ARK RIDGEMONT         |\n",
      "|CROWDS TELEMARK       |\n",
      "|DELIVERANCE MULHOLLAND|\n",
      "|RAIDERS ANTITRUST     |\n",
      "|SISTER FREDDY         |\n",
      "|VILLAIN DESPERATE     |\n",
      "|APOLLO TEEN           |\n",
      "|ALICE FANTASIA        |\n",
      "|CRYSTAL BREAKING      |\n",
      "|TREASURE COMMAND      |\n",
      "|SKY MIRACLE           |\n",
      "|CHINATOWN GLADIATOR   |\n",
      "|PSYCHO SHRUNK         |\n",
      "|ARGONAUTS TOWN        |\n",
      "|WAKE JAWS             |\n",
      "+----------------------+\n",
      "\n"
     ]
    }
   ],
   "source": [
    "spark.sql(\"\"\"\n",
    "SELECT a.title\n",
    "FROM film AS a\n",
    "left JOIN inventory i ON a.film_id = i.film_id\n",
    "WHERE 1=1\n",
    "  AND i.film_id is null;\n",
    "\"\"\").show(100,False)"
   ]
  },
  {
   "cell_type": "markdown",
   "id": "548178b7",
   "metadata": {},
   "source": [
    "Task 5"
   ]
  },
  {
   "cell_type": "code",
   "execution_count": 10,
   "id": "0aede3d4",
   "metadata": {},
   "outputs": [
    {
     "name": "stderr",
     "output_type": "stream",
     "text": [
      "21/11/04 17:19:09 WARN window.WindowExec: No Partition Defined for Window operation! Moving all data to a single partition, this can cause serious performance degradation.\n",
      "[Stage 53:================================================>     (180 + 1) / 200]\r"
     ]
    },
    {
     "name": "stdout",
     "output_type": "stream",
     "text": [
      "+-------------+-----+\n",
      "|full_name    |f_cnt|\n",
      "+-------------+-----+\n",
      "|HELEN VOIGHT |7    |\n",
      "|SUSAN DAVIS  |6    |\n",
      "|MARY TANDY   |5    |\n",
      "|RALPH CRUZ   |5    |\n",
      "|KEVIN GARLAND|5    |\n",
      "|WHOOPI HURT  |5    |\n",
      "+-------------+-----+\n",
      "\n"
     ]
    },
    {
     "name": "stderr",
     "output_type": "stream",
     "text": [
      "\r",
      "                                                                                \r"
     ]
    }
   ],
   "source": [
    "spark.sql(\"\"\"\n",
    "SELECT a.full_name\n",
    "      ,a.f_cnt\n",
    "FROM(\n",
    "    SELECT COUNT(DISTINCT a.title) AS f_cnt\n",
    "          ,CONCAT(e.first_name,' ',e.last_name) AS full_name\n",
    "          ,RANK() OVER(order BY COUNT(DISTINCT a.title) DESC) AS r\n",
    "    FROM film AS a\n",
    "    JOIN film_category AS b ON b.film_id=a.film_id\n",
    "    JOIN category AS c ON c.category_id=b.category_id\n",
    "    JOIN film_actor AS d ON d.film_id=a.film_id\n",
    "    join actor AS e ON e.actor_id=d.actor_id\n",
    "    WHERE 1=1\n",
    "      AND c.name = 'Children'\n",
    "    group BY 2\n",
    "    order BY 1 DESC) AS a\n",
    "WHERE 1=1\n",
    "  and r <=3;\n",
    "\"\"\").show(100,False)"
   ]
  },
  {
   "cell_type": "markdown",
   "id": "cc011862",
   "metadata": {},
   "source": [
    "Task 6"
   ]
  },
  {
   "cell_type": "code",
   "execution_count": 11,
   "id": "64e8ee50",
   "metadata": {},
   "outputs": [
    {
     "name": "stderr",
     "output_type": "stream",
     "text": [
      "[Stage 60:=============================================>        (167 + 1) / 200]\r"
     ]
    },
    {
     "name": "stdout",
     "output_type": "stream",
     "text": [
      "+---------------------+----------+------------+\n",
      "|city                 |cnt_active|cnt_inactive|\n",
      "+---------------------+----------+------------+\n",
      "|Kamyin               |0         |1           |\n",
      "|Xiangfan             |0         |1           |\n",
      "|Charlotte Amalie     |0         |1           |\n",
      "|Wroclaw              |0         |1           |\n",
      "|Southend-on-Sea      |0         |1           |\n",
      "|Najafabad            |0         |1           |\n",
      "|Pingxiang            |0         |1           |\n",
      "|Kumbakonam           |0         |1           |\n",
      "|Szkesfehrvr          |0         |1           |\n",
      "|Daxian               |0         |1           |\n",
      "|Coatzacoalcos        |0         |1           |\n",
      "|Ktahya               |0         |1           |\n",
      "|Amroha               |0         |1           |\n",
      "|Uluberia             |0         |1           |\n",
      "|Bat Yam              |0         |1           |\n",
      "|Toulon               |1         |0           |\n",
      "|Abha                 |1         |0           |\n",
      "|Chisinau             |1         |0           |\n",
      "|Mysore               |1         |0           |\n",
      "|Udaipur              |1         |0           |\n",
      "|Myingyan             |1         |0           |\n",
      "|El Alto              |1         |0           |\n",
      "|Ruse                 |1         |0           |\n",
      "|Juiz de Fora         |1         |0           |\n",
      "|Sultanbeyli          |1         |0           |\n",
      "|Esfahan              |1         |0           |\n",
      "|Monywa               |1         |0           |\n",
      "|Jining               |1         |0           |\n",
      "|Mit Ghamr            |1         |0           |\n",
      "|Dhule (Dhulia)       |1         |0           |\n",
      "|Ueda                 |1         |0           |\n",
      "|Sogamoso             |1         |0           |\n",
      "|Jastrzebie-Zdrj      |1         |0           |\n",
      "|Masqat               |1         |0           |\n",
      "|Zhoushan             |1         |0           |\n",
      "|Balaiha              |1         |0           |\n",
      "|Faaa                 |1         |0           |\n",
      "|Compton              |1         |0           |\n",
      "|Shubra al-Khayma     |1         |0           |\n",
      "|Lima                 |1         |0           |\n",
      "|Molodetno            |1         |0           |\n",
      "|Guaruj               |1         |0           |\n",
      "|Tongliao             |1         |0           |\n",
      "|Rae Bareli           |1         |0           |\n",
      "|Kursk                |1         |0           |\n",
      "|Benguela             |1         |0           |\n",
      "|Tiefa                |1         |0           |\n",
      "|Shivapuri            |1         |0           |\n",
      "|Novi Sad             |1         |0           |\n",
      "|Anpolis              |1         |0           |\n",
      "|Rampur               |1         |0           |\n",
      "|Callao               |1         |0           |\n",
      "|Fuyu                 |1         |0           |\n",
      "|Sirjan               |1         |0           |\n",
      "|Inegl                |1         |0           |\n",
      "|Vitria de Santo Anto |1         |0           |\n",
      "|Coquimbo             |1         |0           |\n",
      "|Lungtan              |1         |0           |\n",
      "|Amersfoort           |1         |0           |\n",
      "|Greensboro           |1         |0           |\n",
      "|Dallas               |1         |0           |\n",
      "|Uttarpara-Kotrung    |1         |0           |\n",
      "|Adana                |1         |0           |\n",
      "|Syrakusa             |1         |0           |\n",
      "|Batman               |1         |0           |\n",
      "|Manchester           |1         |0           |\n",
      "|Laredo               |1         |0           |\n",
      "|Bradford             |1         |0           |\n",
      "|La Romana            |1         |0           |\n",
      "|Jakarta              |1         |0           |\n",
      "|Jedda                |1         |0           |\n",
      "|Nagaon               |1         |0           |\n",
      "|Fontana              |1         |0           |\n",
      "|Gulbarga             |1         |0           |\n",
      "|Kamarhati            |1         |0           |\n",
      "|Bern                 |1         |0           |\n",
      "|Juazeiro do Norte    |1         |0           |\n",
      "|Changhwa             |1         |0           |\n",
      "|Sivas                |1         |0           |\n",
      "|Donostia-San Sebastin|1         |0           |\n",
      "|Siegen               |1         |0           |\n",
      "|Tsaotun              |1         |0           |\n",
      "|Bucuresti            |1         |0           |\n",
      "|Jodhpur              |1         |0           |\n",
      "|Dayton               |1         |0           |\n",
      "|Tabuk                |1         |0           |\n",
      "|Kanazawa             |1         |0           |\n",
      "|Arak                 |1         |0           |\n",
      "|Mandi Bahauddin      |1         |0           |\n",
      "|Salala               |1         |0           |\n",
      "|Tete                 |1         |0           |\n",
      "|Birgunj              |1         |0           |\n",
      "|Lhokseumawe          |1         |0           |\n",
      "|Haldia               |1         |0           |\n",
      "|Siliguri (Shiliguri) |1         |0           |\n",
      "|Nezahualcyotl        |1         |0           |\n",
      "|Zanzibar             |1         |0           |\n",
      "|Matamoros            |1         |0           |\n",
      "|Livorno              |1         |0           |\n",
      "|Jhansi               |1         |0           |\n",
      "+---------------------+----------+------------+\n",
      "only showing top 100 rows\n",
      "\n"
     ]
    },
    {
     "name": "stderr",
     "output_type": "stream",
     "text": [
      "\r",
      "                                                                                \r"
     ]
    }
   ],
   "source": [
    "spark.sql(\"\"\"\n",
    "select c.city\n",
    "      ,COUNT(CASE WHEN a.active=1 then a.customer_id ELSE NULL end) AS cnt_active\n",
    "      ,COUNT(CASE WHEN a.active=0 then a.customer_id ELSE NULL end) AS cnt_inactive\n",
    "  from customer AS a\n",
    "JOIN address AS b ON b.address_id=a.address_id\n",
    "JOIN city AS c ON c.city_id=b.city_id\n",
    "group BY 1\n",
    "order BY 3 desc;\n",
    "\"\"\").show(100,False)"
   ]
  },
  {
   "cell_type": "markdown",
   "id": "da69b59f",
   "metadata": {},
   "source": [
    "Task 7"
   ]
  },
  {
   "cell_type": "code",
   "execution_count": 12,
   "id": "4968477f",
   "metadata": {},
   "outputs": [
    {
     "name": "stderr",
     "output_type": "stream",
     "text": [
      "[Stage 77:===================================================>  (189 + 1) / 200]\r"
     ]
    },
    {
     "name": "stdout",
     "output_type": "stream",
     "text": [
      "+----------+--------+----------+\n",
      "|city_group|Category|rent_hours|\n",
      "+----------+--------+----------+\n",
      "|start_w_A |Sports  |12309     |\n",
      "|contains_-|Foreign |5538      |\n",
      "+----------+--------+----------+\n",
      "\n"
     ]
    },
    {
     "name": "stderr",
     "output_type": "stream",
     "text": [
      "\r",
      "                                                                                \r"
     ]
    }
   ],
   "source": [
    "spark.sql(\"\"\"\n",
    "SELECT a.city_group\n",
    "      ,name AS Category\n",
    "      ,rent_hours\n",
    "FROM(\n",
    "      SELECT e.name\n",
    "            ,CASE WHEN h.city LIKE 'a%' OR h.city LIKE 'A%' THEN 'start_w_A'\n",
    "                  WHEN h.city LIKE '%-%' THEN 'contains_-'\n",
    "                  ELSE 'T_T' end AS city_group\n",
    "            ,SUM(date_part('day',return_date - rental_date)* 24 + date_part('hour',return_date - rental_date)) AS rent_hours\n",
    "            ,ROW_NUMBER() OVER (partition BY CASE WHEN h.city LIKE 'a%' OR h.city LIKE 'A%' THEN 'start_w_A'\n",
    "                                                  WHEN h.city LIKE '%-%' THEN 'contains_-'\n",
    "                                                  ELSE 'T_T' END  \n",
    "                                order BY SUM(date_part('day',return_date - rental_date)* 24 + date_part('hour',return_date - rental_date)) desc) AS rn\n",
    "      FROM rental AS a\n",
    "      JOIN inventory AS b ON b.inventory_id=a.inventory_id\n",
    "      JOIN film AS c ON c.film_id=b.film_id\n",
    "      JOIN film_category AS d ON d.film_id=c.film_id\n",
    "      JOIN category AS e ON e.category_id=d.category_id\n",
    "      JOIN customer AS f ON f.customer_id=a.customer_id\n",
    "      JOIN address AS g ON g.address_id=f.address_id\n",
    "      JOIN city AS h ON h.city_id=g.city_id\n",
    "      WHERE 1=1\n",
    "        AND h.city LIKE 'a%' OR h.city LIKE 'A%' OR h.city LIKE '%-%'\n",
    "      GROUP BY 1,2\n",
    "      order BY 3 desc, 2) AS a\n",
    "WHERE 1=1\n",
    "AND rn=1;\n",
    "\"\"\").show(100,False)"
   ]
  }
 ],
 "metadata": {
  "kernelspec": {
   "display_name": "Python 3 (ipykernel)",
   "language": "python",
   "name": "python3"
  },
  "language_info": {
   "codemirror_mode": {
    "name": "ipython",
    "version": 3
   },
   "file_extension": ".py",
   "mimetype": "text/x-python",
   "name": "python",
   "nbconvert_exporter": "python",
   "pygments_lexer": "ipython3",
   "version": "3.8.8"
  }
 },
 "nbformat": 4,
 "nbformat_minor": 5
}
